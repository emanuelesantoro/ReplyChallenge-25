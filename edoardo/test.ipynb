{
 "cells": [
  {
   "cell_type": "code",
   "execution_count": null,
   "metadata": {},
   "outputs": [
    {
     "ename": "",
     "evalue": "",
     "output_type": "error",
     "traceback": [
      "\u001b[1;31mRunning cells with 'Python 3.12.3' requires the ipykernel package.\n",
      "\u001b[1;31mRun the following command to install 'ipykernel' into the Python environment. \n",
      "\u001b[1;31mCommand: '/usr/bin/python3 -m pip install ipykernel -U --user --force-reinstall'"
     ]
    }
   ],
   "source": [
    "def parse_input_file(filename):\n",
    "    with open(filename, \"r\") as file:\n",
    "        lines = file.readlines()\n",
    "    \n",
    "    # Parse first line (D, R, T)\n",
    "    D, R, T = map(int, lines[0].split())\n",
    "    \n",
    "    # Parse resources\n",
    "    resources = []\n",
    "    for i in range(1, R + 1):\n",
    "        parts = lines[i].split()\n",
    "        resource = {\n",
    "            \"Resource ID\": int(parts[0]), \n",
    "            \"Activation Cost\": int(parts[1]),  # One-time initial expenditure\n",
    "            \"Periodic Cost\": int(parts[2]),    # Recurring maintenance cost per turn\n",
    "            \"Active Turns\": int(parts[3]),     # Turns the resource stays active\n",
    "            \"Downtime Turns\": int(parts[4]),   # Turns needed for maintenance after a cycle\n",
    "            \"Life Cycle\": int(parts[5]),       # Total lifespan of the resource\n",
    "            \"Buildings Powered\": int(parts[6]),# Number of buildings it supports per active turn\n",
    "            \"Special Effect\": parts[7],        # Unique effect or property\n",
    "            \"Efficiency Rating\": int(parts[8]) if len(parts) > 8 else None  # Additional performance metric\n",
    "        }\n",
    "        resources.append(resource)\n",
    "    \n",
    "    # Parse turns\n",
    "    turns = []\n",
    "    for i in range(R + 1, R + 1 + T):\n",
    "        TMt, TXt, TRt = map(int, lines[i].split())\n",
    "        turns.append({\"Minimum Buildings\": TMt, \"Maximum Buildings\": TXt, \"Profit\": TRt})\n",
    "    \n",
    "    return D, R, T, resources, turns\n",
    "\n",
    "level = \"1-thunberg\"\n",
    "\n",
    "D, R, T, resources, turns = parse_input_file(f\"{level}.txt\")\n",
    "\n",
    "# Print parsed data\n",
    "print(\"Initial Capital:\", D)\n",
    "print(\"Total Resources:\", R)\n",
    "print(\"Game Turns:\", T)\n",
    "print(\"Resources:\", resources)\n",
    "print(\"Turns:\", turns)\n",
    "\n"
   ]
  },
  {
   "cell_type": "code",
   "execution_count": null,
   "metadata": {},
   "outputs": [],
   "source": [
    "## GAME SEQUENCE\n",
    "\n",
    "available_resources = resources.copy()\n",
    "available_budget = D\n",
    "active_resources = []\n",
    "\n",
    "for turn in range(T):\n",
    "    \n",
    "\n",
    "    resources_to_activate = []\n",
    "    \n",
    "    \n",
    "    ##TODO IMPLEMENT THE SURPLUS OF RESOURCE E\n",
    "\n",
    "    ## Assert whether at any turn we spent more than we have \n",
    "    for resource in resources_to_activate:\n",
    "        available_budget -= resource[\"Activation Cost\"]\n",
    "        if available_budget < 0:\n",
    "            print(\"Not enough budget\")\n",
    "            break\n",
    "    for resource in active_resources:\n",
    "        available_budget -= resource[\"Periodic Cost\"]\n",
    "        if available_budget < 0:\n",
    "            print(\"Not enough budget\")\n",
    "            break\n",
    "\n",
    "    ## add the resources to the active resources\n",
    "    for resource in resources_to_activate:\n",
    "        active_resources.append(resource)\n",
    "        # available_resources.remove(resource)\n",
    "    \n",
    "    ## Check inside the active resources if any of them expired\n",
    "    for resource in active_resources:\n",
    "        resource[\"Active Turns\"] -= 1\n",
    "        if resource[\"Active Turns\"] == 0:\n",
    "            available_resources.append(resource)\n",
    "            active_resources.remove(resource)\n",
    "\n",
    "    \n",
    "\n",
    "\n"
   ]
  }
 ],
 "metadata": {
  "kernelspec": {
   "display_name": "Python 3",
   "language": "python",
   "name": "python3"
  },
  "language_info": {
   "codemirror_mode": {
    "name": "ipython",
    "version": 3
   },
   "file_extension": ".py",
   "mimetype": "text/x-python",
   "name": "python",
   "nbconvert_exporter": "python",
   "pygments_lexer": "ipython3",
   "version": "3.12.3"
  }
 },
 "nbformat": 4,
 "nbformat_minor": 2
}
